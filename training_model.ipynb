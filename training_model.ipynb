{
 "cells": [
  {
   "cell_type": "code",
   "execution_count": 1,
   "id": "ada4ce8e",
   "metadata": {},
   "outputs": [],
   "source": [
    "import tensorflow as tf\n",
    "from tensorflow.keras import layers\n",
    "from tensorflow.keras.preprocessing import image\n",
    "from tensorflow.keras.preprocessing.image import ImageDataGenerator\n",
    "import numpy as np\n",
    "import matplotlib.pyplot as plt\n",
    "import os"
   ]
  },
  {
   "cell_type": "code",
   "execution_count": 2,
   "id": "eba98de9",
   "metadata": {},
   "outputs": [],
   "source": [
    "dataset_dir = 'C:/Users/sujay/OneDrive/Desktop/Plant/imagedataset/'"
   ]
  },
  {
   "cell_type": "code",
   "execution_count": 3,
   "id": "4e607b82",
   "metadata": {},
   "outputs": [],
   "source": [
    "IMAGE_SIZE = (256, 256)\n",
    "BATCH_SIZE = 32"
   ]
  },
  {
   "cell_type": "code",
   "execution_count": 4,
   "id": "568ed87c",
   "metadata": {},
   "outputs": [],
   "source": [
    "#DATA AUGMENTATION\n",
    "\n",
    "train_datagen = ImageDataGenerator(\n",
    "    rescale=1./255,  # Normalize pixel values between 0 and 1\n",
    "    rotation_range=20,\n",
    "    width_shift_range=0.2,\n",
    "    height_shift_range=0.2,\n",
    "    shear_range=0.2,\n",
    "    zoom_range=0.2,\n",
    "    horizontal_flip=True\n",
    ")"
   ]
  },
  {
   "cell_type": "code",
   "execution_count": 5,
   "id": "b8f6cc65",
   "metadata": {},
   "outputs": [
    {
     "name": "stdout",
     "output_type": "stream",
     "text": [
      "Found 117 files belonging to 2 classes.\n"
     ]
    }
   ],
   "source": [
    "dataset = tf.keras.preprocessing.image_dataset_from_directory(\n",
    "    \"imagedataset\",\n",
    "    shuffle=True,\n",
    "    image_size=(IMAGE_SIZE),\n",
    "    batch_size = BATCH_SIZE\n",
    ")"
   ]
  },
  {
   "cell_type": "code",
   "execution_count": 6,
   "id": "6defc73f",
   "metadata": {},
   "outputs": [],
   "source": [
    "train_ds = dataset.take(20)"
   ]
  },
  {
   "cell_type": "code",
   "execution_count": 7,
   "id": "c518b71c",
   "metadata": {},
   "outputs": [],
   "source": [
    "data = dataset.skip(20)\n",
    "val_ds = dataset.take(10)"
   ]
  },
  {
   "cell_type": "code",
   "execution_count": 8,
   "id": "b69d6db9",
   "metadata": {},
   "outputs": [],
   "source": [
    "model = tf.keras.Sequential([\n",
    "    layers.Conv2D(32, (3, 3), activation='relu', input_shape=(256, 256, 3)),\n",
    "    layers.MaxPooling2D((2, 2)),\n",
    "    layers.Conv2D(64, (3, 3), activation='relu'),\n",
    "    layers.MaxPooling2D((2, 2)),\n",
    "    layers.Conv2D(128, (3, 3), activation='relu'),\n",
    "    layers.MaxPooling2D((2, 2)),\n",
    "    layers.Flatten(),\n",
    "    layers.Dense(64, activation='relu'),\n",
    "    layers.Dense(1, activation='sigmoid')\n",
    "])"
   ]
  },
  {
   "cell_type": "code",
   "execution_count": 9,
   "id": "6d469286",
   "metadata": {},
   "outputs": [],
   "source": [
    "model.compile(optimizer='adam',\n",
    "              loss='binary_crossentropy',\n",
    "              metrics=['accuracy'])"
   ]
  },
  {
   "cell_type": "code",
   "execution_count": null,
   "id": "5d1eb53f",
   "metadata": {},
   "outputs": [],
   "source": []
  },
  {
   "cell_type": "code",
   "execution_count": 10,
   "id": "9cd30614",
   "metadata": {},
   "outputs": [
    {
     "name": "stdout",
     "output_type": "stream",
     "text": [
      "Epoch 1/10\n",
      "4/4 [==============================] - 8s 2s/step - loss: 778.5698 - accuracy: 0.4274 - val_loss: 44.6026 - val_accuracy: 0.5128\n",
      "Epoch 2/10\n",
      "4/4 [==============================] - 7s 2s/step - loss: 22.9824 - accuracy: 0.5214 - val_loss: 8.0403 - val_accuracy: 0.4872\n",
      "Epoch 3/10\n",
      "4/4 [==============================] - 6s 2s/step - loss: 5.2494 - accuracy: 0.5385 - val_loss: 4.2304 - val_accuracy: 0.5128\n",
      "Epoch 4/10\n",
      "4/4 [==============================] - 6s 2s/step - loss: 3.3188 - accuracy: 0.6496 - val_loss: 0.5792 - val_accuracy: 0.6154\n",
      "Epoch 5/10\n",
      "4/4 [==============================] - 6s 1s/step - loss: 0.3246 - accuracy: 0.8120 - val_loss: 0.1150 - val_accuracy: 0.9573\n",
      "Epoch 6/10\n",
      "4/4 [==============================] - 6s 2s/step - loss: 0.6262 - accuracy: 0.7009 - val_loss: 0.0494 - val_accuracy: 0.9658\n",
      "Epoch 7/10\n",
      "4/4 [==============================] - 6s 2s/step - loss: 0.2563 - accuracy: 0.8547 - val_loss: 0.0754 - val_accuracy: 0.9573\n",
      "Epoch 8/10\n",
      "4/4 [==============================] - 6s 2s/step - loss: 0.1527 - accuracy: 0.9487 - val_loss: 0.0390 - val_accuracy: 0.9915\n",
      "Epoch 9/10\n",
      "4/4 [==============================] - 6s 2s/step - loss: 0.0494 - accuracy: 0.9915 - val_loss: 0.3154 - val_accuracy: 0.9402\n",
      "Epoch 10/10\n",
      "4/4 [==============================] - 6s 2s/step - loss: 0.1272 - accuracy: 0.9573 - val_loss: 0.0531 - val_accuracy: 0.9573\n"
     ]
    }
   ],
   "source": [
    "history = model.fit(\n",
    "    train_ds,\n",
    "    epochs=10,\n",
    "    batch_size=BATCH_SIZE,\n",
    "    verbose=1,\n",
    "    validation_data=val_ds,\n",
    ")"
   ]
  },
  {
   "cell_type": "code",
   "execution_count": 11,
   "id": "6df92b61",
   "metadata": {},
   "outputs": [],
   "source": [
    "acc = history.history['accuracy']\n",
    "val_acc = history.history['val_accuracy']\n",
    "\n",
    "loss = history.history['loss']\n",
    "val_loss = history.history['val_loss']"
   ]
  },
  {
   "cell_type": "code",
   "execution_count": 12,
   "id": "ff213fe4",
   "metadata": {},
   "outputs": [
    {
     "data": {
      "image/png": "[encoded data removed]",
      "text/plain": [
       "<Figure size 800x800 with 2 Axes>"
      ]
     },
     "metadata": {},
     "output_type": "display_data"
    }
   ],
   "source": [
    "plt.figure(figsize=(8, 8))\n",
    "plt.subplot(1, 2, 1)\n",
    "plt.plot(range(10), acc, label='Training Accuracy')\n",
    "plt.plot(range(10), val_acc, label='Validation Accuracy')\n",
    "plt.legend(loc='lower right')\n",
    "plt.title('Training and Validation Accuracy')\n",
    "\n",
    "plt.subplot(1, 2, 2)\n",
    "plt.plot(range(10), loss, label='Training Loss')\n",
    "plt.plot(range(10), val_loss, label='Validation Loss')\n",
    "plt.legend(loc='upper right')\n",
    "plt.title('Training and Validation Loss')\n",
    "plt.show()"
   ]
  },
  {
   "cell_type": "code",
   "execution_count": null,
   "id": "2dad88b1",
   "metadata": {},
   "outputs": [],
   "source": []
  },
  {
   "cell_type": "code",
   "execution_count": null,
   "id": "090b08aa",
   "metadata": {
    "scrolled": false
   },
   "outputs": [],
   "source": [
    "\n",
    "\n",
    "# Set the path to the training directory\n",
    "train_dir = 'C:/Users/sujay/OneDrive/Desktop/Plant/imagedataset/'\n",
    "\n",
    "# Set the image size and batch size\n",
    "image_size = (256, 256)\n",
    "batch_size = 32\n",
    "\n",
    "# Set up the data generator\n",
    "train_datagen = ImageDataGenerator(\n",
    "    rescale=1./255,  # Normalize pixel values between 0 and 1\n",
    "    rotation_range=20,\n",
    "    width_shift_range=0.2,\n",
    "    height_shift_range=0.2,\n",
    "    shear_range=0.2,\n",
    "    zoom_range=0.2,\n",
    "    horizontal_flip=True\n",
    ")\n",
    "\n",
    "train_generator = train_datagen.flow_from_directory(\n",
    "    train_dir,\n",
    "    target_size=image_size,\n",
    "    batch_size=batch_size,\n",
    "    class_mode='binary'\n",
    ")\n",
    "\n",
    "\n",
    "# val_datagen = ImageDataGenerator(rescale=1./255)\n",
    "\n",
    "# val_generator = val_datagen.flow_from_dataframe(\n",
    "#     dataframe=pd.DataFrame({'image_paths': val_image_paths, 'labels': val_labels}),\n",
    "#     x_col='image_paths',\n",
    "#     y_col='labels',\n",
    "#     target_size=(256, 256),\n",
    "#     batch_size=32,\n",
    "#     class_mode='binary'\n",
    "# )\n",
    "\n",
    "# Build the CNN model\n",
    "model = tf.keras.Sequential([\n",
    "    layers.Conv2D(32, (3, 3), activation='relu', input_shape=(256, 256, 3)),\n",
    "    layers.MaxPooling2D((2, 2)),\n",
    "    layers.Conv2D(64, (3, 3), activation='relu'),\n",
    "    layers.MaxPooling2D((2, 2)),\n",
    "    layers.Conv2D(128, (3, 3), activation='relu'),\n",
    "    layers.MaxPooling2D((2, 2)),\n",
    "    layers.Flatten(),\n",
    "    layers.Dense(64, activation='relu'),\n",
    "    layers.Dense(1, activation='sigmoid')\n",
    "])\n",
    "\n",
    "# Compile the model\n",
    "model.compile(optimizer='adam',\n",
    "              loss='binary_crossentropy',\n",
    "              metrics=['accuracy'])\n",
    "\n",
    "# Train the model\n",
    "model.fit(\n",
    "    train_generator,\n",
    "    epochs=10\n",
    ")\n",
    "\n",
    "# Save the trained model\n",
    "model.save('leaf_classification_model.h5')\n",
    "\n",
    "# Load the saved model\n",
    "model = tf.keras.models.load_model('leaf_classification_model.h5')\n",
    "\n",
    "# Path to the input image\n",
    "input_image_path = 'C:/Users/sujay/OneDrive/Desktop/Project/imagedataset/tulsi/OT-S-010.jpg'\n",
    "\n",
    "# Load and preprocess the input image\n",
    "img = image.load_img(input_image_path, target_size=image_size)\n",
    "img_array = image.img_to_array(img)\n",
    "img_array = tf.expand_dims(img_array, 0)\n",
    "img_array /= 255.0  # Normalize the pixel values\n",
    "\n",
    "# Make predictions on the input image\n",
    "predictions = model.predict(img_array)\n",
    "\n",
    "# Get the predicted class\n",
    "predicted_class = 'neem' if predictions[0][0] < 0.5 else 'tulsi'\n",
    "confidence = round(100 * np.max(predictions[0]), 2)\n",
    "\n",
    "# Print the predicted class and confidence\n",
    "print(\"Predicted Class:\", predicted_class)\n",
    "print(\"Confidence:\", confidence, \"%\")\n",
    "\n",
    "\n",
    "# Get the predicted class\n",
    "predicted_class = 'neem' if predictions[0][0] < 0.5 else 'tulsi'\n",
    "confidence = round(100 * np.max(predictions[0]), 2)\n",
    "\n",
    "# Print the predicted class and confidence\n",
    "print(\"Predicted Class:\", predicted_class)\n",
    "print(\"Confidence:\", confidence, \"%\")\n"
   ]
  },
  {
   "cell_type": "code",
   "execution_count": null,
   "id": "62dff804",
   "metadata": {},
   "outputs": [],
   "source": [
    "history = model.fit(\n",
    "    train_generator,\n",
    "    epochs=10,\n",
    "    batch_size=32,\n",
    "    verbose=1\n",
    ")"
   ]
  },
  {
   "cell_type": "code",
   "execution_count": null,
   "id": "84f76a45",
   "metadata": {},
   "outputs": [],
   "source": [
    "history.history.keys()"
   ]
  },
  {
   "cell_type": "code",
   "execution_count": null,
   "id": "512b58b1",
   "metadata": {},
   "outputs": [],
   "source": [
    "\n",
    "\n",
    "acc = history.history['accuracy']\n",
    "\n",
    "loss = history.history['loss']\n",
    "\n",
    "plt.figure(figsize=(8, 8))\n",
    "plt.subplot(1, 2, 1)\n",
    "plt.plot(range(10), acc, label='Training Accuracy')\n",
    "plt.legend(loc='lower right')\n",
    "plt.title('Training and Validation Accuracy')\n",
    "\n",
    "plt.subplot(1, 2, 2)\n",
    "plt.plot(range(10), loss, label='Training Loss')\n",
    "plt.legend(loc='upper right')\n",
    "plt.title('Training and Validation Loss')\n",
    "plt.show()"
   ]
  },
  {
   "cell_type": "code",
   "execution_count": null,
   "id": "304b679f",
   "metadata": {},
   "outputs": [],
   "source": []
  }
 ],
 "metadata": {
  "kernelspec": {
   "display_name": "Python 3 (ipykernel)",
   "language": "python",
   "name": "python3"
  },
  "language_info": {
   "codemirror_mode": {
    "name": "ipython",
    "version": 3
   },
   "file_extension": ".py",
   "mimetype": "text/x-python",
   "name": "python",
   "nbconvert_exporter": "python",
   "pygments_lexer": "ipython3",
   "version": "3.11.3"
  }
 },
 "nbformat": 4,
 "nbformat_minor": 5
}
